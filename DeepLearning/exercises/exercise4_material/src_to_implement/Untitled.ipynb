{
 "cells": [
  {
   "cell_type": "code",
   "execution_count": 41,
   "id": "5c7bfd72",
   "metadata": {},
   "outputs": [
    {
     "name": "stderr",
     "output_type": "stream",
     "text": [
      "/var/folders/r_/bq4swdms3vj5wr80yf1vm4nh0000gn/T/ipykernel_3337/686184282.py:17: SettingWithCopyWarning: \n",
      "A value is trying to be set on a copy of a slice from a DataFrame.\n",
      "Try using .loc[row_indexer,col_indexer] = value instead\n",
      "\n",
      "See the caveats in the documentation: https://pandas.pydata.org/pandas-docs/stable/user_guide/indexing.html#returning-a-view-versus-a-copy\n",
      "  train_df['powerlabel'] = train_df.apply(lambda x : 2*x['crack']+1*x['inactive'],axis=1)\n"
     ]
    },
    {
     "data": {
      "text/plain": [
       "<AxesSubplot:>"
      ]
     },
     "execution_count": 41,
     "metadata": {},
     "output_type": "execute_result"
    },
    {
     "data": {
      "image/png": "[encoded data removed]",
      "text/plain": [
       "<Figure size 432x288 with 1 Axes>"
      ]
     },
     "metadata": {
      "needs_background": "light"
     },
     "output_type": "display_data"
    }
   ],
   "source": [
    "import torch as t\n",
    "from data import ChallengeDataset\n",
    "from trainer import Trainer\n",
    "from matplotlib import pyplot as plt\n",
    "import numpy as np\n",
    "import model\n",
    "from torch import nn\n",
    "import pandas as pd\n",
    "import torchvision as tv\n",
    "\n",
    "from sklearn.model_selection import train_test_split\n",
    "\n",
    "# load the data from the csv file and perform a train-test-split\n",
    "# this can be accomplished using the already imported pandas and sklearn.model_selection modules\n",
    "data = pd.read_csv('data.csv', sep=';')\n",
    "train_df, val = train_test_split(data, test_size=0.25, random_state=123)\n",
    "train_df['powerlabel'] = train_df.apply(lambda x : 2*x['crack']+1*x['inactive'],axis=1)\n",
    "train_df['powerlabel'].hist(bins=np.unique(train_df['powerlabel']))"
   ]
  },
  {
   "cell_type": "code",
   "execution_count": 42,
   "id": "c10b3827",
   "metadata": {},
   "outputs": [
    {
     "data": {
      "text/html": [
       "<div>\n",
       "<style scoped>\n",
       "    .dataframe tbody tr th:only-of-type {\n",
       "        vertical-align: middle;\n",
       "    }\n",
       "\n",
       "    .dataframe tbody tr th {\n",
       "        vertical-align: top;\n",
       "    }\n",
       "\n",
       "    .dataframe thead th {\n",
       "        text-align: right;\n",
       "    }\n",
       "</style>\n",
       "<table border=\"1\" class=\"dataframe\">\n",
       "  <thead>\n",
       "    <tr style=\"text-align: right;\">\n",
       "      <th></th>\n",
       "      <th>filename</th>\n",
       "      <th>crack</th>\n",
       "      <th>inactive</th>\n",
       "      <th>powerlabel</th>\n",
       "    </tr>\n",
       "  </thead>\n",
       "  <tbody>\n",
       "    <tr>\n",
       "      <th>813</th>\n",
       "      <td>images/cell0560.png</td>\n",
       "      <td>0</td>\n",
       "      <td>0</td>\n",
       "      <td>0</td>\n",
       "    </tr>\n",
       "    <tr>\n",
       "      <th>1188</th>\n",
       "      <td>images/cell1425.png</td>\n",
       "      <td>0</td>\n",
       "      <td>0</td>\n",
       "      <td>0</td>\n",
       "    </tr>\n",
       "    <tr>\n",
       "      <th>36</th>\n",
       "      <td>images/cell1893.png</td>\n",
       "      <td>0</td>\n",
       "      <td>0</td>\n",
       "      <td>0</td>\n",
       "    </tr>\n",
       "    <tr>\n",
       "      <th>550</th>\n",
       "      <td>images/cell1836.png</td>\n",
       "      <td>0</td>\n",
       "      <td>0</td>\n",
       "      <td>0</td>\n",
       "    </tr>\n",
       "    <tr>\n",
       "      <th>679</th>\n",
       "      <td>images/cell1748.png</td>\n",
       "      <td>0</td>\n",
       "      <td>0</td>\n",
       "      <td>0</td>\n",
       "    </tr>\n",
       "    <tr>\n",
       "      <th>...</th>\n",
       "      <td>...</td>\n",
       "      <td>...</td>\n",
       "      <td>...</td>\n",
       "      <td>...</td>\n",
       "    </tr>\n",
       "    <tr>\n",
       "      <th>1122</th>\n",
       "      <td>images/cell1143.png</td>\n",
       "      <td>1</td>\n",
       "      <td>0</td>\n",
       "      <td>2</td>\n",
       "    </tr>\n",
       "    <tr>\n",
       "      <th>1346</th>\n",
       "      <td>images/cell1030.png</td>\n",
       "      <td>0</td>\n",
       "      <td>0</td>\n",
       "      <td>0</td>\n",
       "    </tr>\n",
       "    <tr>\n",
       "      <th>1406</th>\n",
       "      <td>images/cell0945.png</td>\n",
       "      <td>0</td>\n",
       "      <td>0</td>\n",
       "      <td>0</td>\n",
       "    </tr>\n",
       "    <tr>\n",
       "      <th>1389</th>\n",
       "      <td>images/cell1662.png</td>\n",
       "      <td>0</td>\n",
       "      <td>0</td>\n",
       "      <td>0</td>\n",
       "    </tr>\n",
       "    <tr>\n",
       "      <th>1534</th>\n",
       "      <td>images/cell0857.png</td>\n",
       "      <td>1</td>\n",
       "      <td>0</td>\n",
       "      <td>2</td>\n",
       "    </tr>\n",
       "  </tbody>\n",
       "</table>\n",
       "<p>1500 rows × 4 columns</p>\n",
       "</div>"
      ],
      "text/plain": [
       "                 filename  crack  inactive  powerlabel\n",
       "813   images/cell0560.png      0         0           0\n",
       "1188  images/cell1425.png      0         0           0\n",
       "36    images/cell1893.png      0         0           0\n",
       "550   images/cell1836.png      0         0           0\n",
       "679   images/cell1748.png      0         0           0\n",
       "...                   ...    ...       ...         ...\n",
       "1122  images/cell1143.png      1         0           2\n",
       "1346  images/cell1030.png      0         0           0\n",
       "1406  images/cell0945.png      0         0           0\n",
       "1389  images/cell1662.png      0         0           0\n",
       "1534  images/cell0857.png      1         0           2\n",
       "\n",
       "[1500 rows x 4 columns]"
      ]
     },
     "execution_count": 42,
     "metadata": {},
     "output_type": "execute_result"
    }
   ],
   "source": [
    "train_df"
   ]
  },
  {
   "cell_type": "code",
   "execution_count": 43,
   "id": "768d0c63",
   "metadata": {},
   "outputs": [
    {
     "data": {
      "text/plain": [
       "crack  inactive\n",
       "0      0           1168\n",
       "1      0            243\n",
       "       1             80\n",
       "0      1              9\n",
       "dtype: int64"
      ]
     },
     "execution_count": 43,
     "metadata": {},
     "output_type": "execute_result"
    }
   ],
   "source": [
    "train_df[['crack', 'inactive']].value_counts()"
   ]
  },
  {
   "cell_type": "code",
   "execution_count": 44,
   "id": "ec479865",
   "metadata": {},
   "outputs": [],
   "source": [
    "powercount = {}\n",
    "powerlabels = np.unique(train_df['powerlabel'])\n",
    "for p in powerlabels:\n",
    "    powercount[p] = np.count_nonzero(train_df['powerlabel']==p)\n",
    "\n",
    "maxcount = np.max(list(powercount.values()))\n",
    "for p in powerlabels:\n",
    "    gapnum = maxcount - powercount[p]\n",
    "    #print(gapnum)\n",
    "    temp_df = train_df.iloc[np.random.choice(np.where(train_df['powerlabel']==p)[0],size=gapnum)]\n",
    "    train_df = train_df.append(temp_df,ignore_index=True)\n",
    "    \n",
    "train_df = train_df.sample(frac=1).reset_index(drop=True)"
   ]
  },
  {
   "cell_type": "code",
   "execution_count": 45,
   "id": "1ba7f7d8",
   "metadata": {},
   "outputs": [
    {
     "data": {
      "text/plain": [
       "<AxesSubplot:>"
      ]
     },
     "execution_count": 45,
     "metadata": {},
     "output_type": "execute_result"
    },
    {
     "data": {
      "image/png": "[encoded data removed]",
      "text/plain": [
       "<Figure size 432x288 with 1 Axes>"
      ]
     },
     "metadata": {
      "needs_background": "light"
     },
     "output_type": "display_data"
    }
   ],
   "source": [
    "train_df['powerlabel'].hist(bins=np.unique(train_df['powerlabel']))"
   ]
  },
  {
   "cell_type": "code",
   "execution_count": 46,
   "id": "cdec8e96",
   "metadata": {},
   "outputs": [
    {
     "data": {
      "text/plain": [
       "crack  inactive\n",
       "0      0           1168\n",
       "       1           1168\n",
       "1      0           1168\n",
       "       1           1168\n",
       "dtype: int64"
      ]
     },
     "execution_count": 46,
     "metadata": {},
     "output_type": "execute_result"
    }
   ],
   "source": [
    "train_df[['crack', 'inactive']].value_counts()"
   ]
  },
  {
   "cell_type": "code",
   "execution_count": 18,
   "id": "f50c530e",
   "metadata": {},
   "outputs": [
    {
     "data": {
      "text/plain": [
       "<AxesSubplot:>"
      ]
     },
     "execution_count": 18,
     "metadata": {},
     "output_type": "execute_result"
    },
    {
     "data": {
      "image/png": "[encoded data removed]",
      "text/plain": [
       "<Figure size 432x288 with 1 Axes>"
      ]
     },
     "metadata": {
      "needs_background": "light"
     },
     "output_type": "display_data"
    }
   ],
   "source": [
    "train_df['powerlabel'].hist(bins=np.unique(train['powerlabel']))"
   ]
  },
  {
   "cell_type": "code",
   "execution_count": null,
   "id": "4dbcaaaf",
   "metadata": {},
   "outputs": [],
   "source": []
  }
 ],
 "metadata": {
  "kernelspec": {
   "display_name": "Python 3 (ipykernel)",
   "language": "python",
   "name": "python3"
  },
  "language_info": {
   "codemirror_mode": {
    "name": "ipython",
    "version": 3
   },
   "file_extension": ".py",
   "mimetype": "text/x-python",
   "name": "python",
   "nbconvert_exporter": "python",
   "pygments_lexer": "ipython3",
   "version": "3.9.7"
  }
 },
 "nbformat": 4,
 "nbformat_minor": 5
}
