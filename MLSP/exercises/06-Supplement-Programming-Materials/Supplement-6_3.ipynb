{
 "cells": [
  {
   "cell_type": "markdown",
   "metadata": {},
   "source": [
    "## Supplement 6: Decision Trees and Random Forest"
   ]
  },
  {
   "cell_type": "code",
   "execution_count": 1,
   "metadata": {},
   "outputs": [],
   "source": [
    "%matplotlib inline\n",
    "import numpy as np\n",
    "import pandas as pd\n",
    "\n",
    "from sklearn.ensemble import RandomForestClassifier\n",
    "from sklearn import tree\n",
    "from scipy.stats import mode\n"
   ]
  },
  {
   "cell_type": "markdown",
   "metadata": {},
   "source": [
    "### 6.3 Programming Task: Song popularity prediction using Random Forest\n",
    "The goal of this task is to train a random forest model that predicts the song popularity using the datasets already provided in task 4.3\n",
    " "
   ]
  },
  {
   "cell_type": "code",
   "execution_count": 2,
   "metadata": {},
   "outputs": [
    {
     "name": "stdout",
     "output_type": "stream",
     "text": [
      "Supplement-6_2.ipynb  test-reg-tree.csv     train-reg-tree.csv\r\n",
      "Supplement-6_3.ipynb  test-songs.csv        train-songs.csv\r\n"
     ]
    }
   ],
   "source": [
    "%ls"
   ]
  },
  {
   "cell_type": "code",
   "execution_count": 3,
   "metadata": {},
   "outputs": [],
   "source": [
    "train_df = pd.read_csv('train-songs.csv')\n",
    "test_df = pd.read_csv('test-songs.csv')"
   ]
  },
  {
   "cell_type": "code",
   "execution_count": 4,
   "metadata": {},
   "outputs": [
    {
     "data": {
      "text/html": [
       "<div>\n",
       "<style scoped>\n",
       "    .dataframe tbody tr th:only-of-type {\n",
       "        vertical-align: middle;\n",
       "    }\n",
       "\n",
       "    .dataframe tbody tr th {\n",
       "        vertical-align: top;\n",
       "    }\n",
       "\n",
       "    .dataframe thead th {\n",
       "        text-align: right;\n",
       "    }\n",
       "</style>\n",
       "<table border=\"1\" class=\"dataframe\">\n",
       "  <thead>\n",
       "    <tr style=\"text-align: right;\">\n",
       "      <th></th>\n",
       "      <th>danceability</th>\n",
       "      <th>key</th>\n",
       "      <th>loudness</th>\n",
       "      <th>acousticness</th>\n",
       "      <th>instrumentalness</th>\n",
       "      <th>liveness</th>\n",
       "      <th>valence</th>\n",
       "      <th>tempo</th>\n",
       "      <th>popular</th>\n",
       "    </tr>\n",
       "  </thead>\n",
       "  <tbody>\n",
       "    <tr>\n",
       "      <th>0</th>\n",
       "      <td>0.391</td>\n",
       "      <td>8</td>\n",
       "      <td>-9.532</td>\n",
       "      <td>0.478</td>\n",
       "      <td>0.000006</td>\n",
       "      <td>0.1160</td>\n",
       "      <td>0.138</td>\n",
       "      <td>105.593</td>\n",
       "      <td>0.0</td>\n",
       "    </tr>\n",
       "    <tr>\n",
       "      <th>1</th>\n",
       "      <td>0.628</td>\n",
       "      <td>1</td>\n",
       "      <td>-13.834</td>\n",
       "      <td>0.156</td>\n",
       "      <td>0.010400</td>\n",
       "      <td>0.0836</td>\n",
       "      <td>0.761</td>\n",
       "      <td>102.974</td>\n",
       "      <td>0.0</td>\n",
       "    </tr>\n",
       "    <tr>\n",
       "      <th>2</th>\n",
       "      <td>0.613</td>\n",
       "      <td>3</td>\n",
       "      <td>-22.789</td>\n",
       "      <td>0.864</td>\n",
       "      <td>0.000000</td>\n",
       "      <td>0.2690</td>\n",
       "      <td>0.371</td>\n",
       "      <td>75.104</td>\n",
       "      <td>0.0</td>\n",
       "    </tr>\n",
       "    <tr>\n",
       "      <th>3</th>\n",
       "      <td>0.504</td>\n",
       "      <td>2</td>\n",
       "      <td>-5.931</td>\n",
       "      <td>0.414</td>\n",
       "      <td>0.000000</td>\n",
       "      <td>0.0845</td>\n",
       "      <td>0.163</td>\n",
       "      <td>135.927</td>\n",
       "      <td>1.0</td>\n",
       "    </tr>\n",
       "    <tr>\n",
       "      <th>4</th>\n",
       "      <td>0.698</td>\n",
       "      <td>9</td>\n",
       "      <td>-3.840</td>\n",
       "      <td>0.101</td>\n",
       "      <td>0.000000</td>\n",
       "      <td>0.1070</td>\n",
       "      <td>0.931</td>\n",
       "      <td>124.042</td>\n",
       "      <td>1.0</td>\n",
       "    </tr>\n",
       "  </tbody>\n",
       "</table>\n",
       "</div>"
      ],
      "text/plain": [
       "   danceability  key  loudness  acousticness  instrumentalness  liveness  \\\n",
       "0         0.391    8    -9.532         0.478          0.000006    0.1160   \n",
       "1         0.628    1   -13.834         0.156          0.010400    0.0836   \n",
       "2         0.613    3   -22.789         0.864          0.000000    0.2690   \n",
       "3         0.504    2    -5.931         0.414          0.000000    0.0845   \n",
       "4         0.698    9    -3.840         0.101          0.000000    0.1070   \n",
       "\n",
       "   valence    tempo  popular  \n",
       "0    0.138  105.593      0.0  \n",
       "1    0.761  102.974      0.0  \n",
       "2    0.371   75.104      0.0  \n",
       "3    0.163  135.927      1.0  \n",
       "4    0.931  124.042      1.0  "
      ]
     },
     "execution_count": 4,
     "metadata": {},
     "output_type": "execute_result"
    }
   ],
   "source": [
    "train_df.head()"
   ]
  },
  {
   "cell_type": "code",
   "execution_count": 5,
   "metadata": {},
   "outputs": [
    {
     "data": {
      "text/html": [
       "<div>\n",
       "<style scoped>\n",
       "    .dataframe tbody tr th:only-of-type {\n",
       "        vertical-align: middle;\n",
       "    }\n",
       "\n",
       "    .dataframe tbody tr th {\n",
       "        vertical-align: top;\n",
       "    }\n",
       "\n",
       "    .dataframe thead th {\n",
       "        text-align: right;\n",
       "    }\n",
       "</style>\n",
       "<table border=\"1\" class=\"dataframe\">\n",
       "  <thead>\n",
       "    <tr style=\"text-align: right;\">\n",
       "      <th></th>\n",
       "      <th>danceability</th>\n",
       "      <th>key</th>\n",
       "      <th>loudness</th>\n",
       "      <th>acousticness</th>\n",
       "      <th>instrumentalness</th>\n",
       "      <th>liveness</th>\n",
       "      <th>valence</th>\n",
       "      <th>tempo</th>\n",
       "      <th>popular</th>\n",
       "    </tr>\n",
       "  </thead>\n",
       "  <tbody>\n",
       "    <tr>\n",
       "      <th>0</th>\n",
       "      <td>0.652</td>\n",
       "      <td>9</td>\n",
       "      <td>-7.319</td>\n",
       "      <td>0.7250</td>\n",
       "      <td>0.000002</td>\n",
       "      <td>0.189</td>\n",
       "      <td>0.354</td>\n",
       "      <td>131.955</td>\n",
       "      <td>1.0</td>\n",
       "    </tr>\n",
       "    <tr>\n",
       "      <th>1</th>\n",
       "      <td>0.500</td>\n",
       "      <td>11</td>\n",
       "      <td>-7.996</td>\n",
       "      <td>0.0024</td>\n",
       "      <td>0.000000</td>\n",
       "      <td>0.133</td>\n",
       "      <td>0.515</td>\n",
       "      <td>77.383</td>\n",
       "      <td>0.0</td>\n",
       "    </tr>\n",
       "    <tr>\n",
       "      <th>2</th>\n",
       "      <td>0.422</td>\n",
       "      <td>10</td>\n",
       "      <td>-7.215</td>\n",
       "      <td>0.1090</td>\n",
       "      <td>0.000000</td>\n",
       "      <td>0.722</td>\n",
       "      <td>0.331</td>\n",
       "      <td>74.980</td>\n",
       "      <td>1.0</td>\n",
       "    </tr>\n",
       "    <tr>\n",
       "      <th>3</th>\n",
       "      <td>0.708</td>\n",
       "      <td>5</td>\n",
       "      <td>-5.426</td>\n",
       "      <td>0.0136</td>\n",
       "      <td>0.002210</td>\n",
       "      <td>0.118</td>\n",
       "      <td>0.734</td>\n",
       "      <td>122.006</td>\n",
       "      <td>1.0</td>\n",
       "    </tr>\n",
       "    <tr>\n",
       "      <th>4</th>\n",
       "      <td>0.657</td>\n",
       "      <td>9</td>\n",
       "      <td>-8.351</td>\n",
       "      <td>0.7050</td>\n",
       "      <td>0.000009</td>\n",
       "      <td>0.084</td>\n",
       "      <td>0.381</td>\n",
       "      <td>141.735</td>\n",
       "      <td>1.0</td>\n",
       "    </tr>\n",
       "  </tbody>\n",
       "</table>\n",
       "</div>"
      ],
      "text/plain": [
       "   danceability  key  loudness  acousticness  instrumentalness  liveness  \\\n",
       "0         0.652    9    -7.319        0.7250          0.000002     0.189   \n",
       "1         0.500   11    -7.996        0.0024          0.000000     0.133   \n",
       "2         0.422   10    -7.215        0.1090          0.000000     0.722   \n",
       "3         0.708    5    -5.426        0.0136          0.002210     0.118   \n",
       "4         0.657    9    -8.351        0.7050          0.000009     0.084   \n",
       "\n",
       "   valence    tempo  popular  \n",
       "0    0.354  131.955      1.0  \n",
       "1    0.515   77.383      0.0  \n",
       "2    0.331   74.980      1.0  \n",
       "3    0.734  122.006      1.0  \n",
       "4    0.381  141.735      1.0  "
      ]
     },
     "execution_count": 5,
     "metadata": {},
     "output_type": "execute_result"
    }
   ],
   "source": [
    "test_df.head()"
   ]
  },
  {
   "cell_type": "code",
   "execution_count": 6,
   "metadata": {},
   "outputs": [],
   "source": [
    "# Read data\n",
    "TARGET_COLUMN = 'popular'\n",
    "#TODO\n",
    "\n",
    "train_X = train_df.drop(columns=TARGET_COLUMN).values\n",
    "train_y = train_df[TARGET_COLUMN].values\n",
    "test_X = test_df.drop(columns=TARGET_COLUMN).values\n",
    "test_y = test_df[TARGET_COLUMN].values"
   ]
  },
  {
   "cell_type": "code",
   "execution_count": 7,
   "metadata": {},
   "outputs": [
    {
     "name": "stdout",
     "output_type": "stream",
     "text": [
      "train_X.shape=(20000, 8), train_y.shape=(20000,)\n",
      "test_X.shape=(2000, 8), test_y.shape=(2000,)\n"
     ]
    }
   ],
   "source": [
    "print(f'{train_X.shape=}, {train_y.shape=}\\n{test_X.shape=}, {test_y.shape=}')"
   ]
  },
  {
   "cell_type": "markdown",
   "metadata": {},
   "source": [
    "   i\\. Implement a function that draws a bootstrap sample of size N from the train dataset, where N can be specified by the user.\n",
    "\n",
    "\n"
   ]
  },
  {
   "cell_type": "code",
   "execution_count": 8,
   "metadata": {},
   "outputs": [],
   "source": [
    "def generate_bootstrap(train_X, train_y, N):\n",
    "    indx = np.arange(len(train_y))\n",
    "    selected_indx = np.random.choice(indx, N)\n",
    "    return train_X[selected_indx], train_y[selected_indx]"
   ]
  },
  {
   "cell_type": "markdown",
   "metadata": {},
   "source": [
    "   ii\\. Complete the implementation of the random forest algorithm. For this task you may use the DecisionTreeClassifier from the scikit-learn library. The other parts of the random forest algorithm must be implemented using only Scipy/Numpy."
   ]
  },
  {
   "cell_type": "code",
   "execution_count": 9,
   "metadata": {},
   "outputs": [],
   "source": [
    "class RandomForest:\n",
    "    def __init__(self, n_trees, max_samples, **tree_kwargs):\n",
    "        #TODO Initialize list containing weak classifiers. Also initialize any other parameter if required.\n",
    "        self.trees = [tree.DecisionTreeClassifier(**tree_kwargs) for _ in range(n_trees)]\n",
    "        self.max_samples = max_samples\n",
    "\n",
    "    def train(self,train_X,train_y):\n",
    "        for tree in self.trees:\n",
    "            X, y = generate_bootstrap(train_X, train_y, self.max_samples)\n",
    "            tree.fit(X, y)\n",
    "   \n",
    "    def predict(self,test_X):\n",
    "        #TODO Final predictions are obtained by taking majority-vote (most frequent class) from each weak classifier prediction\n",
    "        predictions = [tree.predict(test_X) for tree in self.trees]\n",
    "        y_predictions = mode(predictions).mode.squeeze()\n",
    "        return y_predictions"
   ]
  },
  {
   "cell_type": "markdown",
   "metadata": {},
   "source": [
    "iii\\. Train the model for the dataset from train-songs.csv using the parameters given below.\n",
    "| Parameter| Value|\n",
    "|----------|------|\n",
    "Number of trees|100|\n",
    "Maximum features per tree|2|\n",
    "Bootstrap sample size|20000|\n",
    "Minimum node size|1|\n",
    "Maximum tree depth|10|\n",
    "\n",
    "\n",
    "Note: The bootstrap sample size is the same as train dataset size in this task.\n"
   ]
  },
  {
   "cell_type": "code",
   "execution_count": 10,
   "metadata": {},
   "outputs": [],
   "source": [
    "# Note: Run this cell without any changes. The model will train if the implementation of subtask (ii) is correct.\n",
    "\n",
    "random_forest_model = RandomForest(n_trees=100, max_samples=20000,max_depth=10, min_samples_leaf=1, max_features=2)\n",
    "\n",
    "random_forest_model.train(train_X, train_y)"
   ]
  },
  {
   "cell_type": "markdown",
   "metadata": {},
   "source": [
    "   iv\\. Calculate the accuracy of the model using the test dataset and compare your results with the\n",
    "RandomForestClassifier from the scikit-learn library using the following parameters."
   ]
  },
  {
   "cell_type": "code",
   "execution_count": 11,
   "metadata": {},
   "outputs": [
    {
     "name": "stdout",
     "output_type": "stream",
     "text": [
      "My RandomForestClassifier Accuracy: 0.8055\n"
     ]
    }
   ],
   "source": [
    "# TODO Run predict for test data and calculate accuracy\n",
    "print(f'My RandomForestClassifier Accuracy: {(random_forest_model.predict(test_X) == test_y).sum() / len(test_y)}')"
   ]
  },
  {
   "cell_type": "code",
   "execution_count": 12,
   "metadata": {},
   "outputs": [
    {
     "name": "stdout",
     "output_type": "stream",
     "text": [
      "Sklearn RandomForestClassifier Accuracy: 0.804\n"
     ]
    }
   ],
   "source": [
    "# TODO: Train and predict using scikit-learn library\n",
    "sklearn_rf = RandomForestClassifier(n_estimators=100, max_samples=20000,max_depth=10, min_samples_leaf=1, max_features=2)\n",
    "sklearn_rf.fit(train_X, train_y)\n",
    "print(f'Sklearn RandomForestClassifier Accuracy: {(sklearn_rf.predict(test_X) == test_y).sum() / len(test_y)}')"
   ]
  },
  {
   "cell_type": "markdown",
   "metadata": {},
   "source": [
    "**The accuracy is slightly different because of random in bootstrap and features selection.**"
   ]
  }
 ],
 "metadata": {
  "kernel_info": {
   "name": "python3"
  },
  "kernelspec": {
   "display_name": "Python 3 (ipykernel)",
   "language": "python",
   "name": "python3"
  },
  "language_info": {
   "codemirror_mode": {
    "name": "ipython",
    "version": 3
   },
   "file_extension": ".py",
   "mimetype": "text/x-python",
   "name": "python",
   "nbconvert_exporter": "python",
   "pygments_lexer": "ipython3",
   "version": "3.9.7"
  },
  "nteract": {
   "version": "0.15.0"
  },
  "vscode": {
   "interpreter": {
    "hash": "7c617624a7fd88b4018bd9e75be0d58c4afb6a334791d511af9b9a5162b5af2b"
   }
  }
 },
 "nbformat": 4,
 "nbformat_minor": 2
}
