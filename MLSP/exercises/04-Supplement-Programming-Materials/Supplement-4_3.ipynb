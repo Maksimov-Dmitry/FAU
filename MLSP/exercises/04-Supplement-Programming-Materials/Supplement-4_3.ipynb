{
 "cells": [
  {
   "cell_type": "markdown",
   "metadata": {},
   "source": [
    "## Supplement 4: Classification"
   ]
  },
  {
   "cell_type": "code",
   "execution_count": 1,
   "metadata": {},
   "outputs": [],
   "source": [
    "%matplotlib inline\n",
    "import numpy as np\n"
   ]
  },
  {
   "cell_type": "markdown",
   "metadata": {},
   "source": [
    "### 4.3 Programming Task: Song popularity prediction using Logistic regression\n",
    "The datasets __train-songs.csv__ and __test-songs.csv__ contain audio properties of various tracks collected from the music streaming site Spotify.\n",
    "\n",
    "\n",
    "The goal of the task is to train a logistic regression classifier that predicts if\n",
    "a given track is popular or not.\n",
    "The dataset consists of 9 columns.\n",
    "The first 8 columns contain various audio properties\n",
    "which are provided as input features to the model.\n",
    "The last column contains the class labels given by 0(not popular) and 1(popular).\n",
    "\n",
    "i\\. Implement the loss function and its gradient for the logistic regression model.\n",
    " "
   ]
  },
  {
   "cell_type": "code",
   "execution_count": 2,
   "metadata": {},
   "outputs": [],
   "source": [
    "def loss_function(input, target):\n",
    "    #avoid numerical errors\n",
    "    input_clamp = np.clip(input, np.finfo(float).eps, 1 - np.finfo(float).eps)\n",
    "    return -np.sum(target * np.log(input_clamp) + (1 - target) * np.log(1 - input_clamp)) / len(target)\n",
    "\n",
    "\n",
    "def sigmoid(input):\n",
    "    return 1 / (1 + np.exp(-input))\n",
    "\n",
    "\n",
    "def loss_function_gradient_weights(w, X, y):\n",
    "    return np.dot(X.T, sigmoid(X.dot(w)) - y) / len(y)"
   ]
  },
  {
   "cell_type": "markdown",
   "metadata": {},
   "source": [
    "   ii\\. Using the gradient descent algorithm, train the logistic regression model.\n",
    "You may reuse/modify the gradient descent algorithm from the previous supplement.\n",
    "\n",
    "\n"
   ]
  },
  {
   "cell_type": "code",
   "execution_count": 3,
   "metadata": {},
   "outputs": [],
   "source": [
    "def gradient_descent(grad_func, num_features=2, random_seed=42, lr=30,\n",
    "                     min_weight_dist=1e-6, max_iter=1e4, init_bounds=(-1, 1), **kwargs):\n",
    "    np.random.seed(random_seed)\n",
    "    weight_dist = np.inf\n",
    "    w_init = np.random.uniform(*init_bounds, num_features)\n",
    "    w = w_init.copy()\n",
    "    loss_history = [loss_function(sigmoid(kwargs['X'].dot(w)), kwargs['y'])]\n",
    "    iter_num = 0\n",
    "    while weight_dist > min_weight_dist and iter_num < max_iter:\n",
    "        w_new = w - lr * grad_func(w, **kwargs)\n",
    "        weight_dist = np.linalg.norm(w - w_new)\n",
    "        w = w_new\n",
    "        iter_num += 1\n",
    "        loss = loss_function(sigmoid(kwargs['X'].dot(w)), kwargs['y'])\n",
    "        loss_history.append(loss)\n",
    "\n",
    "    print(f'last iteration: {iter_num}, weight_dist: {weight_dist}')\n",
    "\n",
    "    return w, loss_history"
   ]
  },
  {
   "cell_type": "code",
   "execution_count": 4,
   "metadata": {},
   "outputs": [
    {
     "data": {
      "text/html": [
       "<div>\n",
       "<style scoped>\n",
       "    .dataframe tbody tr th:only-of-type {\n",
       "        vertical-align: middle;\n",
       "    }\n",
       "\n",
       "    .dataframe tbody tr th {\n",
       "        vertical-align: top;\n",
       "    }\n",
       "\n",
       "    .dataframe thead th {\n",
       "        text-align: right;\n",
       "    }\n",
       "</style>\n",
       "<table border=\"1\" class=\"dataframe\">\n",
       "  <thead>\n",
       "    <tr style=\"text-align: right;\">\n",
       "      <th></th>\n",
       "      <th>danceability</th>\n",
       "      <th>key</th>\n",
       "      <th>loudness</th>\n",
       "      <th>acousticness</th>\n",
       "      <th>instrumentalness</th>\n",
       "      <th>liveness</th>\n",
       "      <th>valence</th>\n",
       "      <th>tempo</th>\n",
       "      <th>popular</th>\n",
       "    </tr>\n",
       "  </thead>\n",
       "  <tbody>\n",
       "    <tr>\n",
       "      <th>0</th>\n",
       "      <td>0.391</td>\n",
       "      <td>8</td>\n",
       "      <td>-9.532</td>\n",
       "      <td>0.478</td>\n",
       "      <td>0.000006</td>\n",
       "      <td>0.1160</td>\n",
       "      <td>0.138</td>\n",
       "      <td>105.593</td>\n",
       "      <td>0.0</td>\n",
       "    </tr>\n",
       "    <tr>\n",
       "      <th>1</th>\n",
       "      <td>0.628</td>\n",
       "      <td>1</td>\n",
       "      <td>-13.834</td>\n",
       "      <td>0.156</td>\n",
       "      <td>0.010400</td>\n",
       "      <td>0.0836</td>\n",
       "      <td>0.761</td>\n",
       "      <td>102.974</td>\n",
       "      <td>0.0</td>\n",
       "    </tr>\n",
       "    <tr>\n",
       "      <th>2</th>\n",
       "      <td>0.613</td>\n",
       "      <td>3</td>\n",
       "      <td>-22.789</td>\n",
       "      <td>0.864</td>\n",
       "      <td>0.000000</td>\n",
       "      <td>0.2690</td>\n",
       "      <td>0.371</td>\n",
       "      <td>75.104</td>\n",
       "      <td>0.0</td>\n",
       "    </tr>\n",
       "    <tr>\n",
       "      <th>3</th>\n",
       "      <td>0.504</td>\n",
       "      <td>2</td>\n",
       "      <td>-5.931</td>\n",
       "      <td>0.414</td>\n",
       "      <td>0.000000</td>\n",
       "      <td>0.0845</td>\n",
       "      <td>0.163</td>\n",
       "      <td>135.927</td>\n",
       "      <td>1.0</td>\n",
       "    </tr>\n",
       "    <tr>\n",
       "      <th>4</th>\n",
       "      <td>0.698</td>\n",
       "      <td>9</td>\n",
       "      <td>-3.840</td>\n",
       "      <td>0.101</td>\n",
       "      <td>0.000000</td>\n",
       "      <td>0.1070</td>\n",
       "      <td>0.931</td>\n",
       "      <td>124.042</td>\n",
       "      <td>1.0</td>\n",
       "    </tr>\n",
       "  </tbody>\n",
       "</table>\n",
       "</div>"
      ],
      "text/plain": [
       "   danceability  key  loudness  acousticness  instrumentalness  liveness  \\\n",
       "0         0.391    8    -9.532         0.478          0.000006    0.1160   \n",
       "1         0.628    1   -13.834         0.156          0.010400    0.0836   \n",
       "2         0.613    3   -22.789         0.864          0.000000    0.2690   \n",
       "3         0.504    2    -5.931         0.414          0.000000    0.0845   \n",
       "4         0.698    9    -3.840         0.101          0.000000    0.1070   \n",
       "\n",
       "   valence    tempo  popular  \n",
       "0    0.138  105.593      0.0  \n",
       "1    0.761  102.974      0.0  \n",
       "2    0.371   75.104      0.0  \n",
       "3    0.163  135.927      1.0  \n",
       "4    0.931  124.042      1.0  "
      ]
     },
     "execution_count": 4,
     "metadata": {},
     "output_type": "execute_result"
    }
   ],
   "source": [
    "import pandas as pd\n",
    "df = pd.read_csv('train-songs.csv')\n",
    "df.head()"
   ]
  },
  {
   "cell_type": "code",
   "execution_count": 5,
   "metadata": {},
   "outputs": [],
   "source": [
    "target = 'popular'\n",
    "df.insert(0, 'bias', 1)\n",
    "X = df.drop(columns=target).values\n",
    "y = df[target].values"
   ]
  },
  {
   "cell_type": "code",
   "execution_count": 6,
   "metadata": {},
   "outputs": [
    {
     "name": "stdout",
     "output_type": "stream",
     "text": [
      "last iteration: 1000, weight_dist: 0.011945854264717306\n"
     ]
    }
   ],
   "source": [
    "w, _ = gradient_descent(loss_function_gradient_weights, num_features=X.shape[1], lr=9e-4, max_iter=1000, X=X, y=y)"
   ]
  },
  {
   "cell_type": "markdown",
   "metadata": {},
   "source": [
    "iii\\. Using model predictions on __test-songs.csv__, build the confusion\n",
    "matrix and subsequently calculate the precision, recall, and F1-score for a threshold of 0.4.\n"
   ]
  },
  {
   "cell_type": "code",
   "execution_count": 7,
   "metadata": {},
   "outputs": [],
   "source": [
    "import matplotlib.pyplot as plt\n",
    "\n",
    "\n",
    "def plot_confusion_matrix(confusion_matrix, title='Confusion matrix', cmap=plt.cm.gray_r):\n",
    "    fig, ax = plt.subplots(figsize=(13, 7))\n",
    "    ax.matshow(confusion_matrix, cmap='Blues')\n",
    "\n",
    "    for (i, j), z in np.ndenumerate(confusion_matrix):\n",
    "        ax.text(j, i, z, ha='center', va='center',\n",
    "                bbox=dict(boxstyle='round', facecolor='white', edgecolor='0.3'))\n",
    "    plt.title(title)\n",
    "    tick_marks = np.arange(len(confusion_matrix))\n",
    "    plt.xticks(tick_marks, np.arange(len(tick_marks)))\n",
    "    plt.yticks(tick_marks, np.arange(len(tick_marks)))\n",
    "    plt.ylabel('Actual')\n",
    "    plt.xlabel('Predicted')"
   ]
  },
  {
   "cell_type": "code",
   "execution_count": 8,
   "metadata": {},
   "outputs": [
    {
     "name": "stdout",
     "output_type": "stream",
     "text": [
      "precision: 0.67\n",
      "recall: 0.94\n",
      "F1-score: 0.78\n"
     ]
    },
    {
     "data": {
      "image/png": "[encoded data removed]",
      "text/plain": [
       "<Figure size 936x504 with 1 Axes>"
      ]
     },
     "metadata": {
      "needs_background": "light"
     },
     "output_type": "display_data"
    }
   ],
   "source": [
    "threshold = 0.4\n",
    "df_test = pd.read_csv('test-songs.csv')\n",
    "df_test.insert(0, 'bias', 1)\n",
    "X_test = df_test.drop(columns=target).values\n",
    "y_test = df_test[target].values\n",
    "predicts = (sigmoid(X_test.dot(w)) > threshold).astype(int)\n",
    "confusion_matrix = np.array([\n",
    "    [((predicts == 0) & (predicts == y_test)).sum(), ((predicts == 1) & (predicts != y_test)).sum()],\n",
    "    [((predicts == 0) & (predicts != y_test)).sum(), ((predicts == 1) & (predicts == y_test)).sum()],\n",
    "])\n",
    "\n",
    "plot_confusion_matrix(confusion_matrix)\n",
    "precision = confusion_matrix[1, 1] / confusion_matrix[:, 1].sum()\n",
    "recall = confusion_matrix[1, 1] / confusion_matrix[1, :].sum()\n",
    "print(f'precision: {round(precision, 2)}')\n",
    "print(f'recall: {round(recall, 2)}')\n",
    "print(f'F1-score: {round(2 * precision * recall / (precision + recall), 2)}')"
   ]
  },
  {
   "cell_type": "markdown",
   "metadata": {},
   "source": [
    "iv\\. Plot the ROC curve for the model and calculate the AUC metric of your model.\n"
   ]
  },
  {
   "cell_type": "code",
   "execution_count": 9,
   "metadata": {},
   "outputs": [
    {
     "data": {
      "image/png": "[encoded data removed]",
      "text/plain": [
       "<Figure size 936x504 with 1 Axes>"
      ]
     },
     "metadata": {
      "needs_background": "light"
     },
     "output_type": "display_data"
    }
   ],
   "source": [
    "def get_roc(predicts, y_true):\n",
    "    thresholds = np.linspace(0, 1, 1000)\n",
    "    fpr = []\n",
    "    tpr = []\n",
    "\n",
    "    positives = sum(y_true)\n",
    "    negatives = len(y_true) - positives\n",
    "\n",
    "    for thresh in thresholds:\n",
    "        FP = 0\n",
    "        TP = 0\n",
    "        for predicted, actual in zip(predicts, y_true):\n",
    "            if predicted > thresh:\n",
    "                if actual == 1:\n",
    "                    TP += 1\n",
    "                else:\n",
    "                    FP += 1\n",
    "        fpr.append(FP / negatives)\n",
    "        tpr.append(TP / positives)\n",
    "    return fpr, tpr\n",
    "\n",
    "\n",
    "def get_auc(tpr, fpr):\n",
    "    zero = np.array([0])\n",
    "    tpr_diff = np.abs(np.r_[(np.diff(tpr), zero)])\n",
    "    fpr_diff = np.abs(np.r_[(np.diff(fpr), zero)])\n",
    "    auc = np.dot(tpr, fpr_diff) + np.dot(tpr_diff, fpr_diff) / 2\n",
    "    return auc\n",
    "\n",
    "fpr, tpr = get_roc(sigmoid(X_test.dot(w)), y_test)\n",
    "plt.figure(figsize=(13, 7))\n",
    "plt.plot(fpr, tpr, label=f'AUC={round(get_auc(tpr, fpr), 2)}')\n",
    "plt.title('ROC Curve', fontsize=20)\n",
    "plt.ylabel('True Positive Rate', fontsize=15)\n",
    "plt.xlabel('False Positive Rate', fontsize=15)\n",
    "plt.legend()\n",
    "plt.grid(True)"
   ]
  },
  {
   "cell_type": "markdown",
   "metadata": {},
   "source": [
    "v\\. Consider the simpler models given below.The input $\\mathbf{x}$ in these models takes only 4 input features from the given dataset.\n",
    "\n",
    "- Model A $~~~~~~~~~~~$   $\\mathbf{x}$ = $[$ danceability, key, valence, tempo $]^\\top$\n",
    "- Model B $~~~~~~~~~~~$  $\\mathbf{x}$ = $[$ danceability, loudness, acousticness, instrumentalness $]^\\top$\n",
    "- Model C $~~~~~~~~~~~$ $\\mathbf{x}$ = $[$ key, liveness, valence, tempo $]^\\top$\n",
    "\n",
    "Train these models using your logistic regression implementation and determine the best performing model using the AUC metric."
   ]
  },
  {
   "cell_type": "code",
   "execution_count": 10,
   "metadata": {},
   "outputs": [
    {
     "name": "stdout",
     "output_type": "stream",
     "text": [
      "last iteration: 1000, weight_dist: 0.04553669374105875\n",
      "Model A: AUC=0.47\n",
      "last iteration: 1000, weight_dist: 0.00010479293769719155\n",
      "Model B: AUC=0.83\n",
      "last iteration: 1000, weight_dist: 0.04474029680873023\n",
      "Model C: AUC=0.46\n"
     ]
    }
   ],
   "source": [
    "set_features = (\n",
    "    ('Model A', ['danceability', 'key', 'valence', 'tempo']),\n",
    "    ('Model B', ['danceability', 'loudness', 'acousticness', 'instrumentalness']),\n",
    "    ('Model C', ['key', 'liveness', 'valence', 'tempo']),\n",
    ")\n",
    "\n",
    "for model, features in set_features:\n",
    "    columns = ['bias'] + features\n",
    "    X = df[columns].values\n",
    "    y = df[target].values\n",
    "    X_test = df_test[columns].values\n",
    "    y_test = df_test[target].values\n",
    "    w, _ = gradient_descent(loss_function_gradient_weights, num_features=X.shape[1], lr=9e-4, max_iter=1000, X=X, y=y)\n",
    "    pred_score = sigmoid(X_test.dot(w))\n",
    "    fpr, tpr = get_roc(pred_score, y_test)\n",
    "    print(f'{model}: AUC={round(get_auc(tpr, fpr), 2)}')"
   ]
  },
  {
   "cell_type": "markdown",
   "metadata": {},
   "source": [
    "**Despite the fact that learning rate should be tuned for each model separately, Model B seems to be the best**"
   ]
  }
 ],
 "metadata": {
  "kernel_info": {
   "name": "python3"
  },
  "kernelspec": {
   "display_name": "Python 3 (ipykernel)",
   "language": "python",
   "name": "python3"
  },
  "language_info": {
   "codemirror_mode": {
    "name": "ipython",
    "version": 3
   },
   "file_extension": ".py",
   "mimetype": "text/x-python",
   "name": "python",
   "nbconvert_exporter": "python",
   "pygments_lexer": "ipython3",
   "version": "3.9.7"
  },
  "nteract": {
   "version": "0.15.0"
  },
  "vscode": {
   "interpreter": {
    "hash": "460131dc2cda6b57dcc8b29ba379d1f6a9e911b276d5c377c45df622778462a6"
   }
  }
 },
 "nbformat": 4,
 "nbformat_minor": 2
}
