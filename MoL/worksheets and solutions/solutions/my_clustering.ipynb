{
 "cells": [
  {
   "cell_type": "code",
   "execution_count": 144,
   "metadata": {},
   "outputs": [],
   "source": [
    "import numpy as np\n",
    "import glob\n",
    "import os\n",
    "import cv2\n",
    "import matplotlib.pyplot as plt\n",
    "%matplotlib inline\n",
    "plt.style.use('seaborn')"
   ]
  },
  {
   "cell_type": "code",
   "execution_count": 145,
   "metadata": {},
   "outputs": [],
   "source": [
    "data = [\n",
    "    {\n",
    "        'label': 'apple',\n",
    "        'directory': './photo_data/apples/',\n",
    "        'data': []\n",
    "    },\n",
    "    {\n",
    "        'label': 'desk',\n",
    "        'directory': './photo_data/desks/',\n",
    "        'data': []\n",
    "    },\n",
    "    {\n",
    "        'label': 'classroom',\n",
    "        'directory': './photo_data/classroomes/',\n",
    "        'data': []\n",
    "    },\n",
    "    \n",
    "]\n",
    "\n",
    "for cluster_info in data:\n",
    "    path = cluster_info['directory']\n",
    "    for img in os.listdir(path):\n",
    "        pic = cv2.imread(os.path.join(path,img))\n",
    "        pic = cv2.cvtColor(pic,cv2.COLOR_BGR2GRAY)\n",
    "        pic = cv2.resize(pic,(80,80))\n",
    "        cluster_info['data'].append(pic.reshape(1, -1)[0])"
   ]
  },
  {
   "cell_type": "code",
   "execution_count": 146,
   "metadata": {},
   "outputs": [],
   "source": [
    "from sklearn.manifold import TSNE"
   ]
  },
  {
   "cell_type": "code",
   "execution_count": 147,
   "metadata": {},
   "outputs": [],
   "source": [
    "tsne = TSNE(n_components=2).fit_transform(data[0]['data'] + data[1]['data'] + data[2]['data'])"
   ]
  },
  {
   "cell_type": "code",
   "execution_count": 151,
   "metadata": {},
   "outputs": [
    {
     "data": {
      "image/png": "[encoded data removed]",
      "text/plain": [
       "<Figure size 576x396 with 1 Axes>"
      ]
     },
     "metadata": {},
     "output_type": "display_data"
    }
   ],
   "source": [
    "fig = plt.figure()\n",
    "ax = fig.add_subplot(111)\n",
    "colors = ['b', 'g', 'r']\n",
    "\n",
    "for i in range(len(data)):\n",
    "    ax.scatter(tsne[i*10:i*10+11, 0], tsne[i*10:i*10+11, 1], c=colors[i], label=data[i]['label'])\n",
    "ax.legend(loc='best')\n",
    "plt.show()"
   ]
  },
  {
   "cell_type": "code",
   "execution_count": null,
   "metadata": {},
   "outputs": [],
   "source": []
  }
 ],
 "metadata": {
  "kernelspec": {
   "display_name": "Python 3",
   "language": "python",
   "name": "python3"
  },
  "language_info": {
   "codemirror_mode": {
    "name": "ipython",
    "version": 3
   },
   "file_extension": ".py",
   "mimetype": "text/x-python",
   "name": "python",
   "nbconvert_exporter": "python",
   "pygments_lexer": "ipython3",
   "version": "3.8.5"
  }
 },
 "nbformat": 4,
 "nbformat_minor": 4
}
